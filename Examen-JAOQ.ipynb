{
 "cells": [
  {
   "cell_type": "markdown",
   "id": "36935799-dade-4f30-bd69-d953cbcd1db7",
   "metadata": {},
   "source": [
    "# Examen de CPAR_GPUS\n",
    "\n",
    "## Pregunta1: Clonar el repositorio oneAPI-samples\n",
    "Para Realizar la clonación se usa el comando git clone: https://github.com/oneapi-src/oneAPI-samples.git\n",
    "\n"
   ]
  },
  {
   "cell_type": "markdown",
   "id": "47d38add-6ef3-4c3e-90a4-2e472832c094",
   "metadata": {},
   "source": [
    "## Pregunta2: Ir al directorio de Nbody\n",
    "Para eso ingresamos por comandos hasta el directorio indicado.\n",
    "\n",
    "/home/u185957/oneAPI-samples/DirectProgramming/C++SYCL/N-BodyMethods/Nbody\n"
   ]
  },
  {
   "cell_type": "markdown",
   "id": "a739b2c8-c7ff-4fb8-b598-c7b2149b75a6",
   "metadata": {},
   "source": [
    "<img src=\"Imagenes/Rpta-Pregunta2.png\" alt=\"Ruta hacia Nbody\" title=\"Ruta\"/>"
   ]
  },
  {
   "cell_type": "markdown",
   "id": "ea47d106-73bc-47b7-9a17-243f7350e883",
   "metadata": {},
   "source": [
    "## Pregunta3: Explicar brevemente el algoritmo de Nbody"
   ]
  },
  {
   "cell_type": "markdown",
   "id": "596349f9-13ab-4f52-b5d8-77efb6f3a07c",
   "metadata": {},
   "source": [
    "<img src=\"Imagenes/AlgoritmoNbody.png\" alt=\"Algoritmo de Nbody\" title=\"Algoritmo de Nbody\"/>"
   ]
  },
  {
   "cell_type": "markdown",
   "id": "19ecd5c2-c234-4dfd-9fee-4c75f647e44d",
   "metadata": {},
   "source": [
    "Este es un programa que usa iostream para operaciones de entradas y salidas, la función principal esta definida y es el punto de entrada del programa. El programa crea una instancia de la clase GSimulation y establece el número de partículas y los pasos de integración en función de los argumentos de la línea de comandos pasados al programa. La clase GSimulation no está definida en este archivo, pero en la carpeta src se observa que está definida, y esta clase represente una simulación de partículas que interactúan entre sí, y el programa ejecuta la simulación para el número especificado de partículas y pasos de integración.\n",
    "\n",
    "El programa también incluye una opción de depuración que busca la variable de entorno SYCL_BE e imprime su valor si está configurado. El programa devuelve 0 para indicar la terminación exitosa del programa."
   ]
  },
  {
   "cell_type": "markdown",
   "id": "2ecc7a4b-0fe2-41e8-ac9f-46a1a12d0b2e",
   "metadata": {},
   "source": [
    "## Pregunta4: Acceder en modo interactivo a un nodo de cómputo con GPUs (gen9 o gen11)"
   ]
  },
  {
   "cell_type": "markdown",
   "id": "5ade717c-1b33-4c58-ab25-85f1f4ee9494",
   "metadata": {},
   "source": [
    "Primero nos conectamos al nodo 9, con el siguiente comando `qsub -I -l nodes=1:gen9:ppn=2 -d .`\n",
    "\n",
    "<img src=\"Imagenes/Nodo-Interactivo.png\" alt=\"Nodo Interactivo\" title=\"Nodo gen9\"/>\n",
    "\n",
    "Observamos que nos conectamos al nodo s001-n158, y con el comando sycl-ls para ver que dispositivos son los soporatdos."
   ]
  },
  {
   "cell_type": "markdown",
   "id": "1c75b258-4b2b-4358-8e30-6c886711c3a5",
   "metadata": {},
   "source": [
    "Ahora compilamos el archivo main.cpp, para ello nos dirigimos a la carpeta donde se encuentra el archivo, con la siguiente ruta:\n",
    "\n",
    "u185957@s001-n158:~/oneAPI-samples/DirectProgramming/C++SYCL/N-BodyMethods/Nbody/src$\n",
    "\n",
    "<img src=\"Imagenes/CompilacionNbody.png\" alt=\"Nodo Interactivo\" title=\"Nodo gen9\"/>\n",
    "\n",
    "Se visualiza un error"
   ]
  },
  {
   "cell_type": "code",
   "execution_count": null,
   "id": "5624a336-0637-414b-b82d-98de3336095f",
   "metadata": {},
   "outputs": [],
   "source": []
  }
 ],
 "metadata": {
  "kernelspec": {
   "display_name": "Python 3 (Intel® oneAPI 2023.0)",
   "language": "python",
   "name": "c009-intel_distribution_of_python_3_oneapi-beta05-python"
  },
  "language_info": {
   "codemirror_mode": {
    "name": "ipython",
    "version": 3
   },
   "file_extension": ".py",
   "mimetype": "text/x-python",
   "name": "python",
   "nbconvert_exporter": "python",
   "pygments_lexer": "ipython3",
   "version": "3.9.15"
  }
 },
 "nbformat": 4,
 "nbformat_minor": 5
}
